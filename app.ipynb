{
 "cells": [
  {
   "cell_type": "markdown",
   "id": "9b3fbe98",
   "metadata": {},
   "source": [
    "1. Create ML model\n",
    "2. Create pickle file\n",
    "3. Create requirement.txt \n",
    "4. Create python file: Flask_app\n",
    "5. Create templates folder in the same dir\n",
    "6. put all html files in templates folder\n",
    "7. Execute this file on anaconda propmt: for that in File menu - goto download - python file to convert it to .py\n",
    "8. List conda envs using: conda info --envs\n",
    "9. Type: activate myenv_name\n",
    "10. pip install flask , jsonify"
   ]
  },
  {
   "cell_type": "markdown",
   "id": "83e623ee",
   "metadata": {},
   "source": [
    "Project Structure\n",
    " \n",
    "This project has four parts :\n",
    "\n",
    "1. price_pred.py — This contains code for the machine learning model to predict car price \n",
    "2. app.py — This contains Flask APIs that receives car details through GUI or API calls, computes the predicted value based on our model and returns it.\n",
    "3. HTML/CSS — contained in templates folder allowing user to enter car detail and displays the predicted price \n",
    "4. Procfile & wsgi is only required when we want to deploy it on flask cloud platform"
   ]
  },
  {
   "cell_type": "code",
   "execution_count": null,
   "id": "ebc0572f",
   "metadata": {},
   "outputs": [],
   "source": [
    "from flask import Flask, render_template, redirect, jsonify, url_for, request\n",
    "import requests\n",
    "import pickle\n",
    "import numpy as np\n",
    "\n",
    "model = pickle.load(open('Random_forest.pkl','rb'))\n",
    "\n",
    "app = Flask(__name__,template_folder=\"templates\")\n",
    "\n",
    "@app.route(\"/\")\n",
    "def home():\n",
    "    return render_template('home.html')\n",
    "\n",
    "@app.route('/predict', methods = ['POST'])\n",
    "def predict():\n",
    "    Fuel_Type_Petrol = 0\n",
    "    Fuel_Type_Diesel = 0\n",
    "    if request.method == 'POST':\n",
    "        Present_Price = float(request.form['Present_Price'])\n",
    "        Kms_Driven = int(request.form['Kms_Driven'])\n",
    "        Year = int(request.form['Year'])\n",
    "        Fuel_Type = request.form['Fuel_Type']\n",
    "        Transmission = request.form['Transmission']\n",
    "        \n",
    "        Year = 2021 - Year\n",
    "        \n",
    "        if Fuel_Type == 'Petrol':\n",
    "            Fuel_Type_Petrol = 1\n",
    "            Fuel_Type_Diesel = 0\n",
    "        else:\n",
    "            Fuel_Type_Petrol = 0\n",
    "            Fuel_Type_Diesel = 1\n",
    "        \n",
    "        if Transmission == 'Manual':\n",
    "            Transmission_Manual = 1\n",
    "        else:\n",
    "            Transmission_Manual = 0\n",
    "            \n",
    "        \n",
    "        y_pred = model.predict([[Present_Price,Kms_Driven,Year,Fuel_Type_Diesel,Fuel_Type_Petrol,Transmission_Manual]])\n",
    "        output = round(y_pred[0],2)\n",
    "        if output < 0:\n",
    "            return render_template('home.html',prediction_text = 'Sorry cannot sell this car')\n",
    "        else:\n",
    "            return render_template('home.html',prediction_text = 'You can sell the car at Rs. {} Lakh'.format(output))\n",
    "    else:\n",
    "        return render_template('home.html')\n",
    "\n",
    "\n",
    "if __name__ == '__main__':\n",
    "    app.run(debug = True, use_reloader=False)"
   ]
  },
  {
   "cell_type": "markdown",
   "id": "000acc7c",
   "metadata": {},
   "source": [
    "# Deploy on cloud:\n",
    "1. Create New repository on Github (+)\n",
    "2. Create New app on Heroku\n",
    "3. Search : Heroku cli and Install Git and Heroku as per your PC config\n",
    "4. open env var and add new PATH : C:\\Program Files\\Git\\cmd\\    and  C:\\Program Files\\Git\\bin\\\n",
    "5. Goto: c:\\program files\\git git_bash prompt and in your env -> project dir\n",
    "6. type: git init\n",
    "7. type: heroku login and any key to continue (don't close the webpage)\n",
    "8. type: heroku git:remote -a carprice-pred-001    (this is the app name created on heroku)\n",
    "9. type: pip install gunicorn\n",
    "10. type: pip freeze > requirements.txt\n",
    "11. create Procfile without extension\n",
    "12. type: git add .\n",
    "13. git config user.email \"nilamupasani@gmail.com\"\n",
    "14. git config user.name \"nilamupasani\"\n",
    "15. type: git commit -m \"first commit\"\n",
    "16. type: git push heroku master\n",
    "17. open the link given on prompt"
   ]
  },
  {
   "cell_type": "code",
   "execution_count": null,
   "id": "602d327e",
   "metadata": {},
   "outputs": [],
   "source": []
  }
 ],
 "metadata": {
  "kernelspec": {
   "display_name": "Python 3",
   "language": "python",
   "name": "python3"
  },
  "language_info": {
   "codemirror_mode": {
    "name": "ipython",
    "version": 3
   },
   "file_extension": ".py",
   "mimetype": "text/x-python",
   "name": "python",
   "nbconvert_exporter": "python",
   "pygments_lexer": "ipython3",
   "version": "3.8.8"
  }
 },
 "nbformat": 4,
 "nbformat_minor": 5
}
